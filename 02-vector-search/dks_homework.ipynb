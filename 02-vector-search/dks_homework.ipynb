{
 "cells": [
  {
   "cell_type": "code",
   "execution_count": 57,
   "metadata": {},
   "outputs": [],
   "source": [
    "import sys\n",
    "import numpy as np\n",
    "from fastembed import TextEmbedding\n",
    "from qdrant_client import QdrantClient, models"
   ]
  },
  {
   "cell_type": "code",
   "execution_count": 67,
   "metadata": {},
   "outputs": [],
   "source": [
    "model_name = \"jinaai/jina-embeddings-v2-small-en\"\n",
    "embedding_model = TextEmbedding(model_name)"
   ]
  },
  {
   "cell_type": "code",
   "execution_count": 63,
   "metadata": {},
   "outputs": [
    {
     "name": "stdout",
     "output_type": "stream",
     "text": [
      "512 -0.11726373551188797 0.13307955253468784\n"
     ]
    }
   ],
   "source": [
    "# Question 1\n",
    "\n",
    "input_text = \"I just discovered the course. Can I join now?\"\n",
    "embedding = embedding_model.embed(input_text)\n",
    "embedding_out = list(embedding)[0] # Selecting the first embedding from the generator\n",
    "\n",
    "print(len(embedding_out), min(embedding_out), max(embedding_out))"
   ]
  },
  {
   "cell_type": "code",
   "execution_count": 64,
   "metadata": {},
   "outputs": [
    {
     "name": "stdout",
     "output_type": "stream",
     "text": [
      "Norm of embedding_out:  1.0\n",
      "Dot product of embedding_out with itself:  1.0\n",
      "Dot Product of query and doc:  0.9008528856818037\n"
     ]
    }
   ],
   "source": [
    "# Question 2\n",
    "\n",
    "print(\"Norm of embedding_out: \", np.linalg.norm(embedding_out))\n",
    "print(\"Dot product of embedding_out with itself: \", embedding_out.dot(embedding_out))\n",
    "\n",
    "doc = \"Can I still join the course after the start date?\"\n",
    "query = \"I just discovered the course. Can I join now?\"\n",
    "\n",
    "query_embedding = list(embedding_model.embed(query))[0]\n",
    "doc_embedding = list(embedding_model.embed(doc))[0]\n",
    "\n",
    "print(\"Dot Product of query and doc: \", query_embedding.dot(doc_embedding))"
   ]
  },
  {
   "cell_type": "code",
   "execution_count": 65,
   "metadata": {},
   "outputs": [],
   "source": [
    "documents = [{'text': \"Yes, even if you don't register, you're still eligible to submit the homeworks.\\nBe aware, however, that there will be deadlines for turning in the final projects. So don't leave everything for the last minute.\",\n",
    "  'section': 'General course-related questions',\n",
    "  'question': 'Course - Can I still join the course after the start date?',\n",
    "  'course': 'data-engineering-zoomcamp'},\n",
    " {'text': 'Yes, we will keep all the materials after the course finishes, so you can follow the course at your own pace after it finishes.\\nYou can also continue looking at the homeworks and continue preparing for the next cohort. I guess you can also start working on your final capstone project.',\n",
    "  'section': 'General course-related questions',\n",
    "  'question': 'Course - Can I follow the course after it finishes?',\n",
    "  'course': 'data-engineering-zoomcamp'},\n",
    " {'text': \"The purpose of this document is to capture frequently asked technical questions\\nThe exact day and hour of the course will be 15th Jan 2024 at 17h00. The course will start with the first  “Office Hours'' live.1\\nSubscribe to course public Google Calendar (it works from Desktop only).\\nRegister before the course starts using this link.\\nJoin the course Telegram channel with announcements.\\nDon’t forget to register in DataTalks.Club's Slack and join the channel.\",\n",
    "  'section': 'General course-related questions',\n",
    "  'question': 'Course - When will the course start?',\n",
    "  'course': 'data-engineering-zoomcamp'},\n",
    " {'text': 'You can start by installing and setting up all the dependencies and requirements:\\nGoogle cloud account\\nGoogle Cloud SDK\\nPython 3 (installed with Anaconda)\\nTerraform\\nGit\\nLook over the prerequisites and syllabus to see if you are comfortable with these subjects.',\n",
    "  'section': 'General course-related questions',\n",
    "  'question': 'Course - What can I do before the course starts?',\n",
    "  'course': 'data-engineering-zoomcamp'},\n",
    " {'text': 'Star the repo! Share it with friends if you find it useful ❣️\\nCreate a PR if you see you can improve the text or the structure of the repository.',\n",
    "  'section': 'General course-related questions',\n",
    "  'question': 'How can we contribute to the course?',\n",
    "  'course': 'data-engineering-zoomcamp'}]\n"
   ]
  },
  {
   "cell_type": "code",
   "execution_count": 80,
   "metadata": {},
   "outputs": [
    {
     "name": "stdout",
     "output_type": "stream",
     "text": [
      "Matrix V shape: (5, 512)\n",
      "[0.76296845 0.81823783 0.80853973 0.71330786 0.73044994]\n",
      "Most similar document index=1: 0.8182378325403555\n"
     ]
    }
   ],
   "source": [
    "# Question 3\n",
    "\n",
    "query = \"I just discovered the course. Can I join now?\"\n",
    "query_embedding = list(embedding_model.embed(query))[0]\n",
    "\n",
    "# Create a list to collect embeddings, then convert to numpy matrix\n",
    "doc_embeddings_list = []\n",
    "for doc in documents:\n",
    "    doc_embedding = list(embedding_model.embed(doc[\"text\"]))[0]\n",
    "    doc_embeddings_list.append(doc_embedding)\n",
    "\n",
    "# Convert list to numpy matrix V (shape: num_docs x embedding_dim)\n",
    "V = np.array(doc_embeddings_list)\n",
    "print(f\"Matrix V shape: {V.shape}\")\n",
    "\n",
    "# Compute cosine similarities using matrix multiplication\n",
    "# Since embeddings are normalized (norm=1), dot product = cosine similarity\n",
    "cosine_similarities = V.dot(query_embedding)\n",
    "\n",
    "print(cosine_similarities)\n",
    "# Find the document with highest similarity\n",
    "max_idx = np.argmax(cosine_similarities)\n",
    "print(f\"Most similar document index={max_idx}: {cosine_similarities[max_idx]}\")"
   ]
  },
  {
   "cell_type": "code",
   "execution_count": 81,
   "metadata": {},
   "outputs": [
    {
     "name": "stdout",
     "output_type": "stream",
     "text": [
      "Matrix V shape: (5, 512)\n",
      "[0.85145431 0.84365941 0.84082872 0.77551577 0.8086008 ]\n",
      "Most similar document index=0: 0.8514543121225202\n"
     ]
    }
   ],
   "source": [
    "# Question 4\n",
    "\n",
    "query = \"I just discovered the course. Can I join now?\"\n",
    "query_embedding = list(embedding_model.embed(query))[0]\n",
    "\n",
    "# Create a list to collect embeddings, then convert to numpy matrix\n",
    "doc_embeddings_list = []\n",
    "for doc in documents:\n",
    "    full_text = doc['question'] + ' ' + doc['text']\n",
    "    doc_embedding = list(embedding_model.embed(full_text))[0]\n",
    "    doc_embeddings_list.append(doc_embedding)\n",
    "\n",
    "# Convert list to numpy matrix V (shape: num_docs x embedding_dim)\n",
    "V = np.array(doc_embeddings_list)\n",
    "print(f\"Matrix V shape: {V.shape}\")\n",
    "\n",
    "# Compute cosine similarities using matrix multiplication\n",
    "# Since embeddings are normalized (norm=1), dot product = cosine similarity\n",
    "cosine_similarities = V.dot(query_embedding)\n",
    "\n",
    "print(cosine_similarities)\n",
    "# Find the document with highest similarity\n",
    "max_idx = np.argmax(cosine_similarities)\n",
    "print(f\"Most similar document index={max_idx}: {cosine_similarities[max_idx]}\")"
   ]
  },
  {
   "cell_type": "code",
   "execution_count": 58,
   "metadata": {},
   "outputs": [
    {
     "name": "stdout",
     "output_type": "stream",
     "text": [
      "384 {'model': 'BAAI/bge-small-en', 'sources': {'hf': 'Qdrant/bge-small-en', 'url': 'https://storage.googleapis.com/qdrant-fastembed/BAAI-bge-small-en.tar.gz', '_deprecated_tar_struct': True}, 'model_file': 'model_optimized.onnx', 'description': 'Text embeddings, Unimodal (text), English, 512 input tokens truncation, Prefixes for queries/documents: necessary, 2023 year.', 'license': 'mit', 'size_in_GB': 0.13, 'additional_files': [], 'dim': 384, 'tasks': {}}\n"
     ]
    }
   ],
   "source": [
    "# Question 5\n",
    "min_dim = sys.maxsize\n",
    "model_info = None\n",
    "for i in TextEmbedding.list_supported_models():\n",
    "    if min_dim > i[\"dim\"]:\n",
    "        min_dim = i[\"dim\"]\n",
    "        model_info = i\n",
    "\n",
    "print(min_dim, model_info)"
   ]
  },
  {
   "cell_type": "code",
   "execution_count": 84,
   "metadata": {},
   "outputs": [],
   "source": [
    "# Question 6\n",
    "\n",
    "import requests \n",
    "\n",
    "docs_url = 'https://github.com/alexeygrigorev/llm-rag-workshop/raw/main/notebooks/documents.json'\n",
    "docs_response = requests.get(docs_url)\n",
    "documents_raw = docs_response.json()\n",
    "\n",
    "\n",
    "documents = []\n",
    "\n",
    "for course in documents_raw:\n",
    "    course_name = course['course']\n",
    "    if course_name != 'machine-learning-zoomcamp':\n",
    "        continue\n",
    "\n",
    "    for doc in course['documents']:\n",
    "        doc['course'] = course_name\n",
    "        documents.append(doc)"
   ]
  },
  {
   "cell_type": "code",
   "execution_count": 91,
   "metadata": {},
   "outputs": [
    {
     "data": {
      "text/plain": [
       "UpdateResult(operation_id=0, status=<UpdateStatus.COMPLETED: 'completed'>)"
      ]
     },
     "execution_count": 91,
     "metadata": {},
     "output_type": "execute_result"
    }
   ],
   "source": [
    "model_handle_name = \"BAAI/bge-small-en\"\n",
    "qd_client = QdrantClient(host=\"localhost\", port=6333)\n",
    "EMBEDDING_DIMENSIONALITY = 384\n",
    "\n",
    "# Define the collection name\n",
    "collection_name = \"zoomcamp-rag\"\n",
    "\n",
    "# Create the collection with specified vector parameters\n",
    "qd_client.create_collection(\n",
    "    collection_name=collection_name,\n",
    "    vectors_config=models.VectorParams(\n",
    "        size=EMBEDDING_DIMENSIONALITY,  # Dimensionality of the vectors\n",
    "        distance=models.Distance.COSINE  # Distance metric for similarity search\n",
    "    )\n",
    ")\n",
    "\n",
    "points = []\n",
    "for id, doc in enumerate(documents):\n",
    "    text = doc['question'] + ' ' + doc['text']\n",
    "    point = models.PointStruct(\n",
    "        id=id,\n",
    "        vector=models.Document(text=text, model=model_handle_name), #embed text locally \n",
    "        payload=doc #save all needed metadata fields\n",
    "    )\n",
    "    points.append(point)\n",
    "\n",
    "\n",
    "qd_client.upsert(\n",
    "    collection_name=collection_name,\n",
    "    points=points\n",
    ")\n",
    "\n"
   ]
  },
  {
   "cell_type": "code",
   "execution_count": 99,
   "metadata": {},
   "outputs": [
    {
     "name": "stdout",
     "output_type": "stream",
     "text": [
      "0.8703172 {'text': 'Yes, you can. You won’t be able to submit some of the homeworks, but you can still take part in the course.\\nIn order to get a certificate, you need to submit 2 out of 3 course projects and review 3 peers’ Projects by the deadline. It means that if you join the course at the end of November and manage to work on two projects, you will still be eligible for a certificate.', 'section': 'General course-related questions', 'question': 'The course has already started. Can I still join it?', 'course': 'machine-learning-zoomcamp'}\n"
     ]
    }
   ],
   "source": [
    "def search(query, limit=1):\n",
    "    return qd_client.query_points(\n",
    "        collection_name=collection_name,\n",
    "        query=models.Document( #embed the query text locally\n",
    "            text=query,\n",
    "            model=model_handle_name \n",
    "        ),\n",
    "        limit=limit, # top closest matches\n",
    "        with_payload=True #to get metadata in the results\n",
    "    )\n",
    "\n",
    "out = search(\"I just discovered the course. Can I join now?\")\n",
    "print(out.points[0].score, out.points[0].payload)\n"
   ]
  },
  {
   "cell_type": "markdown",
   "metadata": {},
   "source": [
    "Testing commands"
   ]
  },
  {
   "cell_type": "code",
   "execution_count": 93,
   "metadata": {},
   "outputs": [
    {
     "name": "stdout",
     "output_type": "stream",
     "text": [
      "Most similar document index=0: 0.8067650198936462\n",
      "{'text': 'Machine Learning Zoomcamp FAQ\\nThe purpose of this document is to capture frequently asked technical questions.\\nWe did this for our data engineering course and it worked quite well. Check this document for inspiration on how to structure your questions and answers:\\nData Engineering Zoomcamp FAQ\\nIn the course GitHub repository there’s a link. Here it is: https://airtable.com/shryxwLd0COOEaqXo\\nwork', 'section': 'General course-related questions', 'question': 'How do I sign up?', 'course': 'machine-learning-zoomcamp'}\n"
     ]
    }
   ],
   "source": [
    "# Testing with direct cosine similarity\n",
    "\n",
    "model_handle_name = \"BAAI/bge-small-en\"\n",
    "embedding_model = TextEmbedding(model_handle_name)\n",
    "\n",
    "query = \"I just discovered the course. Can I join now?\"\n",
    "query_embedding = list(embedding_model.embed(query))[0]\n",
    "\n",
    "doc_embeddings_list = []\n",
    "for i in documents:\n",
    "    text = doc['question'] + ' ' + doc['text']\n",
    "    doc_embedding = list(embedding_model.embed(text))[0]\n",
    "    doc_embeddings_list.append(doc_embedding)\n",
    "\n",
    "V = np.array(doc_embeddings_list)\n",
    "\n",
    "cosine_similarities = V.dot(query_embedding)\n",
    "\n",
    "# Find the document with highest similarity\n",
    "max_idx = np.argmax(cosine_similarities)\n",
    "print(f\"Most similar document index={max_idx}: {cosine_similarities[max_idx]}\")\n",
    "print(documents[max_idx])"
   ]
  }
 ],
 "metadata": {
  "kernelspec": {
   "display_name": ".venv",
   "language": "python",
   "name": "python3"
  },
  "language_info": {
   "codemirror_mode": {
    "name": "ipython",
    "version": 3
   },
   "file_extension": ".py",
   "mimetype": "text/x-python",
   "name": "python",
   "nbconvert_exporter": "python",
   "pygments_lexer": "ipython3",
   "version": "3.11.6"
  }
 },
 "nbformat": 4,
 "nbformat_minor": 2
}
