{
 "cells": [
  {
   "cell_type": "code",
   "execution_count": null,
   "id": "a02a52fc",
   "metadata": {},
   "outputs": [],
   "source": [
    "import dlt\n",
    "import requests\n",
    "from dlt.destinations import qdrant\n",
    "from dlt.destinations.impl.qdrant.qdrant_job_client import QdrantClient"
   ]
  },
  {
   "cell_type": "code",
   "execution_count": 6,
   "id": "a2ace296",
   "metadata": {},
   "outputs": [],
   "source": [
    "@dlt.resource\n",
    "def zoomcamp_data():\n",
    "    docs_url = 'https://github.com/alexeygrigorev/llm-rag-workshop/raw/main/notebooks/documents.json'\n",
    "    docs_response = requests.get(docs_url)\n",
    "    documents_raw = docs_response.json()\n",
    "\n",
    "    for course in documents_raw:\n",
    "        course_name = course['course']\n",
    "\n",
    "        for doc in course['documents']:\n",
    "            doc['course'] = course_name\n",
    "            yield doc\n"
   ]
  },
  {
   "cell_type": "code",
   "execution_count": null,
   "id": "9d4c8d3d",
   "metadata": {},
   "outputs": [
    {
     "name": "stdout",
     "output_type": "stream",
     "text": [
      "Run started at 2025-07-11 12:23:52.726365+00:00 and COMPLETED in 8.02 seconds with 4 steps.\n",
      "Step extract COMPLETED in 1.19 seconds.\n",
      "\n",
      "Load package 1752236634.9483058 is EXTRACTED and NOT YET LOADED to the destination and contains no failed jobs\n",
      "\n",
      "Step normalize COMPLETED in 0.05 seconds.\n",
      "Normalized data for the following tables:\n",
      "- zoomcamp_data: 948 row(s)\n",
      "- _dlt_pipeline_state: 1 row(s)\n",
      "\n",
      "Load package 1752236634.9483058 is NORMALIZED and NOT YET LOADED to the destination and contains no failed jobs\n",
      "\n",
      "Step load COMPLETED in 4.56 seconds.\n",
      "Pipeline zoomcamp_pipeline load step completed in 4.55 seconds\n",
      "1 load package(s) were loaded to destination qdrant and into dataset zoomcamp_tagged_data\n",
      "The qdrant destination used /Users/dheerajkumar.solanki/Desktop/test_dks/llm-zoomcamp/cohorts/2025/workshops/db.qdrant location to store data\n",
      "Load package 1752236634.9483058 is LOADED and contains no failed jobs\n",
      "\n",
      "Step run COMPLETED in 8.02 seconds.\n",
      "Pipeline zoomcamp_pipeline load step completed in 4.55 seconds\n",
      "1 load package(s) were loaded to destination qdrant and into dataset zoomcamp_tagged_data\n",
      "The qdrant destination used /Users/dheerajkumar.solanki/Desktop/test_dks/llm-zoomcamp/cohorts/2025/workshops/db.qdrant location to store data\n",
      "Load package 1752236634.9483058 is LOADED and contains no failed jobs\n"
     ]
    }
   ],
   "source": [
    "\n",
    "# qdrant_destination = qdrant(\n",
    "#   qd_location=\"http://localhost:6333\"\n",
    "# )\n",
    "\n",
    "qdrant_destination = qdrant(\n",
    "    qd_path=\"db.qdrant\"\n",
    ")\n",
    "\n",
    "pipeline = dlt.pipeline(\n",
    "    pipeline_name=\"zoomcamp_pipeline\",\n",
    "    destination=qdrant_destination,\n",
    "    dataset_name=\"zoomcamp_tagged_data\"\n",
    "\n",
    ")\n",
    "load_info = pipeline.run(zoomcamp_data())\n",
    "print(pipeline.last_trace)\n",
    "\n",
    "# Embedding model: fast-bge-small-en"
   ]
  },
  {
   "cell_type": "code",
   "execution_count": null,
   "id": "0508d12a",
   "metadata": {},
   "outputs": [],
   "source": []
  }
 ],
 "metadata": {
  "kernelspec": {
   "display_name": ".venv",
   "language": "python",
   "name": "python3"
  },
  "language_info": {
   "codemirror_mode": {
    "name": "ipython",
    "version": 3
   },
   "file_extension": ".py",
   "mimetype": "text/x-python",
   "name": "python",
   "nbconvert_exporter": "python",
   "pygments_lexer": "ipython3",
   "version": "3.11.6"
  }
 },
 "nbformat": 4,
 "nbformat_minor": 5
}
